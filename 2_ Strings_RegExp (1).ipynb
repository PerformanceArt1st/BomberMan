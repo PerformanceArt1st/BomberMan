{
 "cells": [
  {
   "cell_type": "code",
   "execution_count": 71,
   "metadata": {
    "dotnet_interactive": {
     "language": "csharp"
    },
    "polyglot_notebook": {
     "kernelName": "csharp"
    }
   },
   "outputs": [
    {
     "name": "stdout",
     "output_type": "stream",
     "text": [
      "Тип: Microsoft.CodeAnalysis.EmbeddedAttribute: \n",
      "Метод - Equals | Возвращаемый тип: System.Boolean | Параметр: System.Boolean\n",
      "Метод - GetHashCode | Возвращаемый тип: System.Int32 | Параметр: System.Int32\n",
      "Метод - get_TypeId | Возвращаемый тип: System.Object | Параметр: System.Object\n",
      "Метод - Match | Возвращаемый тип: System.Boolean | Параметр: System.Boolean\n",
      "Метод - IsDefaultAttribute | Возвращаемый тип: System.Boolean | Параметр: System.Boolean\n",
      "Метод - GetType | Возвращаемый тип: System.Type | Параметр: System.Type\n",
      "Метод - ToString | Возвращаемый тип: System.String | Параметр: System.String\n",
      "\n",
      "Тип: System.Runtime.CompilerServices.NullableAttribute: \n",
      "Метод - Equals | Возвращаемый тип: System.Boolean | Параметр: System.Boolean\n",
      "Метод - GetHashCode | Возвращаемый тип: System.Int32 | Параметр: System.Int32\n",
      "Метод - get_TypeId | Возвращаемый тип: System.Object | Параметр: System.Object\n",
      "Метод - Match | Возвращаемый тип: System.Boolean | Параметр: System.Boolean\n",
      "Метод - IsDefaultAttribute | Возвращаемый тип: System.Boolean | Параметр: System.Boolean\n",
      "Метод - GetType | Возвращаемый тип: System.Type | Параметр: System.Type\n",
      "Метод - ToString | Возвращаемый тип: System.String | Параметр: System.String\n",
      "\n",
      "Тип: System.Runtime.CompilerServices.NullableContextAttribute: \n",
      "Метод - Equals | Возвращаемый тип: System.Boolean | Параметр: System.Boolean\n",
      "Метод - GetHashCode | Возвращаемый тип: System.Int32 | Параметр: System.Int32\n",
      "Метод - get_TypeId | Возвращаемый тип: System.Object | Параметр: System.Object\n",
      "Метод - Match | Возвращаемый тип: System.Boolean | Параметр: System.Boolean\n",
      "Метод - IsDefaultAttribute | Возвращаемый тип: System.Boolean | Параметр: System.Boolean\n",
      "Метод - GetType | Возвращаемый тип: System.Type | Параметр: System.Type\n",
      "Метод - ToString | Возвращаемый тип: System.String | Параметр: System.String\n",
      "\n",
      "Тип: HWdTech.ICommand: \n",
      "Метод - Execute | Возвращаемый тип: System.Void | Параметр: System.Void\n",
      "\n",
      "Тип: HWdTech.IoC: \n",
      "Метод - Resolve | Возвращаемый тип: T | Параметр: T\n",
      "Метод - GetType | Возвращаемый тип: System.Type | Параметр: System.Type\n",
      "Метод - ToString | Возвращаемый тип: System.String | Параметр: System.String\n",
      "Метод - Equals | Возвращаемый тип: System.Boolean | Параметр: System.Boolean\n",
      "Метод - GetHashCode | Возвращаемый тип: System.Int32 | Параметр: System.Int32\n",
      "\n",
      "Тип: HWdTech.IoC+SetupCommand: \n",
      "Метод - Execute | Возвращаемый тип: System.Void | Параметр: System.Void\n",
      "Метод - GetType | Возвращаемый тип: System.Type | Параметр: System.Type\n",
      "Метод - ToString | Возвращаемый тип: System.String | Параметр: System.String\n",
      "Метод - Equals | Возвращаемый тип: System.Boolean | Параметр: System.Boolean\n",
      "Метод - GetHashCode | Возвращаемый тип: System.Int32 | Параметр: System.Int32\n",
      "\n",
      "Тип: HWdTech.IoC+<>c: \n",
      "Метод - GetType | Возвращаемый тип: System.Type | Параметр: System.Type\n",
      "Метод - ToString | Возвращаемый тип: System.String | Параметр: System.String\n",
      "Метод - Equals | Возвращаемый тип: System.Boolean | Параметр: System.Boolean\n",
      "Метод - GetHashCode | Возвращаемый тип: System.Int32 | Параметр: System.Int32\n",
      "\n"
     ]
    }
   ],
   "source": [
    "using System;\n",
    "using System.Reflection;\n",
    "\n",
    "string aPath = @\"C:\\Users\\user\\Desktop\\sss\\core.dll\";\n",
    "Assembly a = Assembly.LoadFrom(aPath);\n",
    "\n",
    "foreach (var type in a.GetTypes())\n",
    "{\n",
    "    Console.WriteLine($\"Тип: {type.FullName}: \");\n",
    "    foreach(var method in type.GetMethods())\n",
    "    {\n",
    "        Console.WriteLine($\"Метод - {method.Name} | Возвращаемый тип: {method.ReturnType} | Параметр: {method.ReturnType}\");\n",
    "    }\n",
    "    Console.WriteLine();\n",
    "}"
   ]
  },
  {
   "cell_type": "code",
   "execution_count": 72,
   "metadata": {},
   "outputs": [
    {
     "name": "stdout",
     "output_type": "stream",
     "text": [
      "Тип: Microsoft.CodeAnalysis.EmbeddedAttribute:\n",
      "Метод - Equals | Возвращаемый тип: Boolean | Параметр: Boolean\n",
      "Метод - GetHashCode | Возвращаемый тип: Int32 | Параметр: Int32\n",
      "Метод - get_TypeId | Возвращаемый тип: Object | Параметр: Object\n",
      "Метод - Match | Возвращаемый тип: Boolean | Параметр: Boolean\n",
      "Метод - IsDefaultAttribute | Возвращаемый тип: Boolean | Параметр: Boolean\n",
      "Метод - GetType | Возвращаемый тип: Type | Параметр: Type\n",
      "Метод - ToString | Возвращаемый тип: String | Параметр: String\n",
      "\n",
      "Тип: System.Runtime.CompilerServices.NullableAttribute:\n",
      "Метод - Equals | Возвращаемый тип: Boolean | Параметр: Boolean\n",
      "Метод - GetHashCode | Возвращаемый тип: Int32 | Параметр: Int32\n",
      "Метод - get_TypeId | Возвращаемый тип: Object | Параметр: Object\n",
      "Метод - Match | Возвращаемый тип: Boolean | Параметр: Boolean\n",
      "Метод - IsDefaultAttribute | Возвращаемый тип: Boolean | Параметр: Boolean\n",
      "Метод - GetType | Возвращаемый тип: Type | Параметр: Type\n",
      "Метод - ToString | Возвращаемый тип: String | Параметр: String\n",
      "\n",
      "Тип: System.Runtime.CompilerServices.NullableContextAttribute:\n",
      "Метод - Equals | Возвращаемый тип: Boolean | Параметр: Boolean\n",
      "Метод - GetHashCode | Возвращаемый тип: Int32 | Параметр: Int32\n",
      "Метод - get_TypeId | Возвращаемый тип: Object | Параметр: Object\n",
      "Метод - Match | Возвращаемый тип: Boolean | Параметр: Boolean\n",
      "Метод - IsDefaultAttribute | Возвращаемый тип: Boolean | Параметр: Boolean\n",
      "Метод - GetType | Возвращаемый тип: Type | Параметр: Type\n",
      "Метод - ToString | Возвращаемый тип: String | Параметр: String\n",
      "\n",
      "Тип: HWdTech.ICommand:\n",
      "Метод - Execute | Возвращаемый тип: Void | Параметр: Void\n",
      "\n",
      "Тип: HWdTech.IoC:\n",
      "Метод - Resolve | Возвращаемый тип: T | Параметр: T\n",
      "Метод - GetType | Возвращаемый тип: Type | Параметр: Type\n",
      "Метод - ToString | Возвращаемый тип: String | Параметр: String\n",
      "Метод - Equals | Возвращаемый тип: Boolean | Параметр: Boolean\n",
      "Метод - GetHashCode | Возвращаемый тип: Int32 | Параметр: Int32\n",
      "\n",
      "Тип: HWdTech.IoC+SetupCommand:\n",
      "Метод - Execute | Возвращаемый тип: Void | Параметр: Void\n",
      "Метод - GetType | Возвращаемый тип: Type | Параметр: Type\n",
      "Метод - ToString | Возвращаемый тип: String | Параметр: String\n",
      "Метод - Equals | Возвращаемый тип: Boolean | Параметр: Boolean\n",
      "Метод - GetHashCode | Возвращаемый тип: Int32 | Параметр: Int32\n",
      "\n",
      "Тип: HWdTech.IoC+<>c:\n",
      "Метод - GetType | Возвращаемый тип: Type | Параметр: Type\n",
      "Метод - ToString | Возвращаемый тип: String | Параметр: String\n",
      "Метод - Equals | Возвращаемый тип: Boolean | Параметр: Boolean\n",
      "Метод - GetHashCode | Возвращаемый тип: Int32 | Параметр: Int32\n",
      "\n"
     ]
    }
   ],
   "source": [
    "using System;\n",
    "using System.Linq;\n",
    "using System.Reflection;\n",
    "\n",
    "string aPath = @\"C:\\Users\\user\\Desktop\\sss\\core.dll\";\n",
    "Assembly a = Assembly.LoadFrom(aPath);\n",
    "\n",
    "var aboutTypes = a.GetTypes().Select(type => new\n",
    "{\n",
    "    TypeName = type.FullName,\n",
    "    aboutMethods = type.GetMethods().Select(method => new\n",
    "    {\n",
    "        MethodName = method.Name,\n",
    "        ReturnType = method.ReturnType.Name,\n",
    "    })\n",
    "});\n",
    "\n",
    "foreach (var type in aboutTypes)\n",
    "{\n",
    "    Console.WriteLine($\"Тип: {type.TypeName}:\");\n",
    "\n",
    "    foreach(var method in type.aboutMethods)\n",
    "    {\n",
    "        Console.WriteLine($\"Метод - {method.MethodName} | Возвращаемый тип: {method.ReturnType} | Параметр: {method.ReturnType}\");\n",
    "    }\n",
    "    Console.WriteLine();\n",
    "}"
   ]
  }
 ],
 "metadata": {
  "kernelspec": {
   "display_name": ".NET (C#)",
   "language": "C#",
   "name": ".net-csharp"
  },
  "language_info": {
   "name": "polyglot-notebook"
  },
  "polyglot_notebook": {
   "kernelInfo": {
    "defaultKernelName": "csharp",
    "items": [
     {
      "aliases": [],
      "languageName": "csharp",
      "name": "csharp"
     }
    ]
   }
  }
 },
 "nbformat": 4,
 "nbformat_minor": 2
}
