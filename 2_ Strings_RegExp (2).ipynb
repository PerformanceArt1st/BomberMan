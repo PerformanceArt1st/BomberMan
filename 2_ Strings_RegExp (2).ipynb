{
 "cells": [
  {
   "cell_type": "markdown",
   "metadata": {},
   "source": [
    "# Задание 2\n",
    "## Часть 1.\n",
    "Провести 2 эксперимента: (для string и StringBuilder): \n",
    "1. Создать строку длиной 10 символов\n",
    "2. Запустить цикл от 0 до 1000000, на каждой итерации i-й(mod10) символ меняется на случайный\n",
    "3. Вывести время выполнения\n",
    "\n",
    "## Часть 2.\n",
    "Проверить, что строка содержит время в 24-часовом формате.\n",
    "\n",
    "## Часть 3.\n",
    "Проверить, что строка содержит корректный адрес электронной почты:\n",
    "1. В никнейме содержатся буквы, цифры, дефисы, нижние подчеркивания\n",
    "2. Домен может быть любого уровня > 1. [Допустимые имена](https://learn.microsoft.com/ru-ru/troubleshoot/windows-server/active-directory/naming-conventions-for-computer-domain-site-ou#:~:text=%D0%98%D0%BC%D0%B5%D0%BD%D0%B0%20%D1%83%D0%B7%D0%BB%D0%BE%D0%B2%20DNS-,%D0%94%D0%BE%D0%BF%D1%83%D1%81%D1%82%D0%B8%D0%BC%D1%8B%D0%B5%20%D1%81%D0%B8%D0%BC%D0%B2%D0%BE%D0%BB%D1%8B%3A%20DNS%2D%D0%B8%D0%BC%D0%B5%D0%BD%D0%B0%20%D0%BC%D0%BE%D0%B3%D1%83%D1%82%20%D1%81%D0%BE%D0%B4%D0%B5%D1%80%D0%B6%D0%B0%D1%82%D1%8C%20%D1%82%D0%BE%D0%BB%D1%8C%D0%BA%D0%BE%20%D0%B0%D0%BB%D1%84%D0%B0%D0%B2%D0%B8%D1%82%D0%BD%D1%8B%D0%B5%20%D1%81%D0%B8%D0%BC%D0%B2%D0%BE%D0%BB%D1%8B%20(A%E2%80%93Z)%2C%20%D1%87%D0%B8%D1%81%D0%BB%D0%BE%D0%B2%D1%8B%D0%B5%20%D1%81%D0%B8%D0%BC%D0%B2%D0%BE%D0%BB%D1%8B%20(0%E2%80%939)%2C%20%D0%B7%D0%BD%D0%B0%D0%BA%20%D0%BC%D0%B8%D0%BD%D1%83%D1%81%20(%2D)%20%D0%B8%20%D1%82%D0%BE%D1%87%D0%BA%D1%83%20(.).%20%D0%A1%D0%B8%D0%BC%D0%B2%D0%BE%D0%BB%D1%8B%20%D1%82%D0%BE%D1%87%D0%BA%D0%B8%20%D0%B4%D0%BE%D0%BF%D1%83%D1%81%D0%BA%D0%B0%D1%8E%D1%82%D1%81%D1%8F%20%D1%82%D0%BE%D0%BB%D1%8C%D0%BA%D0%BE%20%D0%B2%20%D1%82%D0%BE%D0%BC%20%D1%81%D0%BB%D1%83%D1%87%D0%B0%D0%B5%2C%20%D0%B5%D1%81%D0%BB%D0%B8%20%D0%BE%D0%BD%D0%B8%20%D0%B8%D1%81%D0%BF%D0%BE%D0%BB%D1%8C%D0%B7%D1%83%D1%8E%D1%82%D1%81%D1%8F%20%D0%B4%D0%BB%D1%8F%20%D1%80%D0%B0%D0%B7%D0%B4%D0%B5%D0%BB%D0%B5%D0%BD%D0%B8%D1%8F%20%D0%BA%D0%BE%D0%BC%D0%BF%D0%BE%D0%BD%D0%B5%D0%BD%D1%82%D0%BE%D0%B2%20%D0%B8%D0%BC%D0%B5%D0%BD%20%D1%81%D1%82%D0%B8%D0%BB%D0%B5%D0%B9%20%D0%B4%D0%BE%D0%BC%D0%B5%D0%BD%D0%BE%D0%B2.,-%D0%A1%D0%B8%D1%81%D1%82%D0%B5%D0%BC%D0%B0%20%D0%B4%D0%BE%D0%BC%D0%B5%D0%BD%D0%BD%D1%8B%D1%85%20%D0%B8%D0%BC%D0%B5%D0%BD)"
   ]
  },
  {
   "cell_type": "code",
   "execution_count": 129,
   "metadata": {
    "dotnet_interactive": {
     "language": "csharp"
    },
    "polyglot_notebook": {
     "kernelName": "csharp"
    }
   },
   "outputs": [
    {
     "name": "stdout",
     "output_type": "stream",
     "text": [
      "fbuehtmqbg\r\n"
     ]
    },
    {
     "data": {
      "text/html": [
       "<details open=\"open\" class=\"dni-treeview\"><summary><span class=\"dni-code-hint\"><code>00:00:00.0149005</code></span></summary><div><table><thead><tr></tr></thead><tbody><tr><td>IsRunning</td><td><div class=\"dni-plaintext\"><pre>False</pre></div></td></tr><tr><td>Elapsed</td><td><span>00:00:00.0149005</span></td></tr><tr><td>ElapsedMilliseconds</td><td><div class=\"dni-plaintext\"><pre>14</pre></div></td></tr><tr><td>ElapsedTicks</td><td><div class=\"dni-plaintext\"><pre>149005</pre></div></td></tr></tbody></table></div></details><style>\r\n",
       ".dni-code-hint {\r\n",
       "    font-style: italic;\r\n",
       "    overflow: hidden;\r\n",
       "    white-space: nowrap;\r\n",
       "}\r\n",
       ".dni-treeview {\r\n",
       "    white-space: nowrap;\r\n",
       "}\r\n",
       ".dni-treeview td {\r\n",
       "    vertical-align: top;\r\n",
       "    text-align: start;\r\n",
       "}\r\n",
       "details.dni-treeview {\r\n",
       "    padding-left: 1em;\r\n",
       "}\r\n",
       "table td {\r\n",
       "    text-align: start;\r\n",
       "}\r\n",
       "table tr { \r\n",
       "    vertical-align: top; \r\n",
       "    margin: 0em 0px;\r\n",
       "}\r\n",
       "table tr td pre \r\n",
       "{ \r\n",
       "    vertical-align: top !important; \r\n",
       "    margin: 0em 0px !important;\r\n",
       "} \r\n",
       "table th {\r\n",
       "    text-align: start;\r\n",
       "}\r\n",
       "</style>"
      ]
     },
     "metadata": {},
     "output_type": "display_data"
    }
   ],
   "source": [
    "var time = System.Diagnostics.Stopwatch.StartNew();\n",
    "Random random = new Random();\n",
    "string line = \"0123456789\";\n",
    "string letters = \"qwertyuiopasdfghjklzxcvbnm\";\n",
    "StringBuilder sb = new StringBuilder(line);\n",
    "\n",
    "for (int i = 0; i < 1000000; i++){\n",
    "    sb[i%10] = letters[random.Next(letters.Length)];\n",
    "}\n",
    "time.Stop();\n",
    "Console.WriteLine(sb.ToString());\n",
    "time"
   ]
  },
  {
   "cell_type": "code",
   "execution_count": 130,
   "metadata": {
    "dotnet_interactive": {
     "language": "csharp"
    },
    "polyglot_notebook": {
     "kernelName": "csharp"
    }
   },
   "outputs": [
    {
     "name": "stdout",
     "output_type": "stream",
     "text": [
      "00:59:06 23:45:59 12:34:56 01:01:01 19:30:45 "
     ]
    }
   ],
   "source": [
    "string timePattern = @\"^([01][0-9]|2[0-3]):[0-5][0-9]:[0-5][0-9]$\";\n",
    "string[] inputs = { \"00:59:06\", \"23:45:59\", \"12:34:56\", \"01:01:01\", \"19:30:45\", \"24:00:00\",\"23:60:00\",\"23:00:60\", \"-01:30:45\",\"25:00:00\",\"12:60:00\",\"12:00:61\",\"12:00:6a\",\"12:00\",\"12:00:001\" };\n",
    "        \n",
    "foreach(var input in inputs)\n",
    "{ \n",
    "    if (Regex.IsMatch(input, timePattern))\n",
    "    Console.Write(input + \" \");\n",
    "}"
   ]
  },
  {
   "cell_type": "code",
   "execution_count": 131,
   "metadata": {
    "dotnet_interactive": {
     "language": "csharp"
    },
    "polyglot_notebook": {
     "kernelName": "csharp"
    }
   },
   "outputs": [
    {
     "name": "stdout",
     "output_type": "stream",
     "text": [
      "example-email@domain.com\n",
      "user.name+tag@domain.co\n"
     ]
    }
   ],
   "source": [
    "string emailPattern = @\"^[a-zA-Z0-9._%+-]+@([a-zA-Z0-9]+(-[a-zA-Z0-9]+)*\\.)+[a-zA-Z]{2,}$\";\n",
    "string[] emails = {\n",
    "            \"example-email@domain.com\",\n",
    "            \"user.name+tag@domain.co\",\n",
    "            \"usewqeqwr@.domain.com\",\n",
    "            \"ewqerqwr@main.123456\"};\n",
    "\n",
    "foreach(var email in emails)\n",
    "{ \n",
    "    if (Regex.IsMatch(email, emailPattern))\n",
    "    Console.WriteLine(email);\n",
    "} "
   ]
  }
 ],
 "metadata": {
  "kernelspec": {
   "display_name": ".NET (C#)",
   "language": "C#",
   "name": ".net-csharp"
  },
  "language_info": {
   "name": "polyglot-notebook"
  },
  "polyglot_notebook": {
   "kernelInfo": {
    "defaultKernelName": "csharp",
    "items": [
     {
      "aliases": [],
      "languageName": "csharp",
      "name": "csharp"
     }
    ]
   }
  }
 },
 "nbformat": 4,
 "nbformat_minor": 2
}
